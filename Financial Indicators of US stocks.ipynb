{
 "cells": [
  {
   "cell_type": "markdown",
   "id": "13d8357f",
   "metadata": {},
   "source": [
    "# Financial Indicators of US stocks"
   ]
  },
  {
   "cell_type": "markdown",
   "id": "5c634218",
   "metadata": {},
   "source": [
    "## 1. Introduction"
   ]
  },
  {
   "cell_type": "markdown",
   "id": "e1d96f89",
   "metadata": {},
   "source": [
    "In this project, I use the [Kaggle dataset](https://www.kaggle.com/cnic92/200-financial-indicators-of-us-stocks-20142018?select=2018_Financial_Data.csv). This dataset has been developed in order to understand whether or not it is possible to classify the future performance of a stock by looking at the financial information released in the 10-K filings that the companies release yearly. \n",
    "\n",
    "I specifically use the 2018 dataset for my analysis. The last column of the dataset represent the class of each stock, where:\n",
    "- if the value of a stock increases during 2019, then class=1;\n",
    "- if the value of a stock decreases during 2019, then class=0.\n",
    "\n",
    "Note that the analysis is only for short-term tradings (buy and hold for less than 1 year). This is not analysis for long-term investments. In addition, you should not make trades with any models developed in this analysis. Trading stocks has risks and nothing in this analysis constitutes stock trading advice.\n"
   ]
  },
  {
   "cell_type": "code",
   "execution_count": 1,
   "id": "729c4d8d",
   "metadata": {},
   "outputs": [],
   "source": [
    "#Import the packages used in the project\n",
    "import pandas as pd\n",
    "import numpy as np\n",
    "import matplotlib.pyplot as plt \n",
    "%matplotlib inline\n",
    "import seaborn as sns\n",
    "import warnings\n",
    "warnings.filterwarnings(\"ignore\")\n",
    "from sklearn.model_selection import KFold\n",
    "from sklearn.feature_selection import RFECV\n",
    "from sklearn.ensemble import RandomForestClassifier\n",
    "from sklearn.model_selection import GridSearchCV\n",
    "from sklearn.neighbors import KNeighborsClassifier\n",
    "from sklearn.linear_model import LogisticRegression\n",
    "import random"
   ]
  },
  {
   "cell_type": "code",
   "execution_count": 2,
   "id": "d7d2b5a0",
   "metadata": {},
   "outputs": [],
   "source": [
    "#Read in the data for 2018\n",
    "data = pd.read_csv('2018_Financial_Data.csv')"
   ]
  },
  {
   "cell_type": "code",
   "execution_count": 3,
   "id": "6c91849e",
   "metadata": {},
   "outputs": [
    {
     "data": {
      "text/html": [
       "<div>\n",
       "<style scoped>\n",
       "    .dataframe tbody tr th:only-of-type {\n",
       "        vertical-align: middle;\n",
       "    }\n",
       "\n",
       "    .dataframe tbody tr th {\n",
       "        vertical-align: top;\n",
       "    }\n",
       "\n",
       "    .dataframe thead th {\n",
       "        text-align: right;\n",
       "    }\n",
       "</style>\n",
       "<table border=\"1\" class=\"dataframe\">\n",
       "  <thead>\n",
       "    <tr style=\"text-align: right;\">\n",
       "      <th></th>\n",
       "      <th>Unnamed: 0</th>\n",
       "      <th>Revenue</th>\n",
       "      <th>Revenue Growth</th>\n",
       "      <th>Cost of Revenue</th>\n",
       "      <th>Gross Profit</th>\n",
       "      <th>R&amp;D Expenses</th>\n",
       "      <th>SG&amp;A Expense</th>\n",
       "      <th>Operating Expenses</th>\n",
       "      <th>Operating Income</th>\n",
       "      <th>Interest Expense</th>\n",
       "      <th>...</th>\n",
       "      <th>Receivables growth</th>\n",
       "      <th>Inventory Growth</th>\n",
       "      <th>Asset Growth</th>\n",
       "      <th>Book Value per Share Growth</th>\n",
       "      <th>Debt Growth</th>\n",
       "      <th>R&amp;D Expense Growth</th>\n",
       "      <th>SG&amp;A Expenses Growth</th>\n",
       "      <th>Sector</th>\n",
       "      <th>2019 PRICE VAR [%]</th>\n",
       "      <th>Class</th>\n",
       "    </tr>\n",
       "  </thead>\n",
       "  <tbody>\n",
       "    <tr>\n",
       "      <th>0</th>\n",
       "      <td>CMCSA</td>\n",
       "      <td>9.450700e+10</td>\n",
       "      <td>0.1115</td>\n",
       "      <td>0.000000e+00</td>\n",
       "      <td>9.450700e+10</td>\n",
       "      <td>0.000000e+00</td>\n",
       "      <td>6.482200e+10</td>\n",
       "      <td>7.549800e+10</td>\n",
       "      <td>1.900900e+10</td>\n",
       "      <td>3.542000e+09</td>\n",
       "      <td>...</td>\n",
       "      <td>0.2570</td>\n",
       "      <td>0.0000</td>\n",
       "      <td>0.3426</td>\n",
       "      <td>0.0722</td>\n",
       "      <td>0.7309</td>\n",
       "      <td>0.0000</td>\n",
       "      <td>0.1308</td>\n",
       "      <td>Consumer Cyclical</td>\n",
       "      <td>32.794573</td>\n",
       "      <td>1</td>\n",
       "    </tr>\n",
       "    <tr>\n",
       "      <th>1</th>\n",
       "      <td>KMI</td>\n",
       "      <td>1.414400e+10</td>\n",
       "      <td>0.0320</td>\n",
       "      <td>7.288000e+09</td>\n",
       "      <td>6.856000e+09</td>\n",
       "      <td>0.000000e+00</td>\n",
       "      <td>6.010000e+08</td>\n",
       "      <td>3.062000e+09</td>\n",
       "      <td>3.794000e+09</td>\n",
       "      <td>1.917000e+09</td>\n",
       "      <td>...</td>\n",
       "      <td>0.0345</td>\n",
       "      <td>-0.0920</td>\n",
       "      <td>-0.0024</td>\n",
       "      <td>0.0076</td>\n",
       "      <td>-0.0137</td>\n",
       "      <td>0.0000</td>\n",
       "      <td>-0.1265</td>\n",
       "      <td>Energy</td>\n",
       "      <td>40.588068</td>\n",
       "      <td>1</td>\n",
       "    </tr>\n",
       "    <tr>\n",
       "      <th>2</th>\n",
       "      <td>INTC</td>\n",
       "      <td>7.084800e+10</td>\n",
       "      <td>0.1289</td>\n",
       "      <td>2.711100e+10</td>\n",
       "      <td>4.373700e+10</td>\n",
       "      <td>1.354300e+10</td>\n",
       "      <td>6.750000e+09</td>\n",
       "      <td>2.042100e+10</td>\n",
       "      <td>2.331600e+10</td>\n",
       "      <td>-1.260000e+08</td>\n",
       "      <td>...</td>\n",
       "      <td>0.1989</td>\n",
       "      <td>0.0387</td>\n",
       "      <td>0.0382</td>\n",
       "      <td>0.1014</td>\n",
       "      <td>-0.0169</td>\n",
       "      <td>0.0390</td>\n",
       "      <td>-0.0942</td>\n",
       "      <td>Technology</td>\n",
       "      <td>30.295514</td>\n",
       "      <td>1</td>\n",
       "    </tr>\n",
       "    <tr>\n",
       "      <th>3</th>\n",
       "      <td>MU</td>\n",
       "      <td>3.039100e+10</td>\n",
       "      <td>0.4955</td>\n",
       "      <td>1.250000e+10</td>\n",
       "      <td>1.789100e+10</td>\n",
       "      <td>2.141000e+09</td>\n",
       "      <td>8.130000e+08</td>\n",
       "      <td>2.897000e+09</td>\n",
       "      <td>1.499400e+10</td>\n",
       "      <td>3.420000e+08</td>\n",
       "      <td>...</td>\n",
       "      <td>0.4573</td>\n",
       "      <td>0.1511</td>\n",
       "      <td>0.2275</td>\n",
       "      <td>0.6395</td>\n",
       "      <td>-0.5841</td>\n",
       "      <td>0.1738</td>\n",
       "      <td>0.0942</td>\n",
       "      <td>Technology</td>\n",
       "      <td>64.213737</td>\n",
       "      <td>1</td>\n",
       "    </tr>\n",
       "    <tr>\n",
       "      <th>4</th>\n",
       "      <td>GE</td>\n",
       "      <td>1.216150e+11</td>\n",
       "      <td>0.0285</td>\n",
       "      <td>9.546100e+10</td>\n",
       "      <td>2.615400e+10</td>\n",
       "      <td>0.000000e+00</td>\n",
       "      <td>1.811100e+10</td>\n",
       "      <td>4.071100e+10</td>\n",
       "      <td>-1.455700e+10</td>\n",
       "      <td>5.059000e+09</td>\n",
       "      <td>...</td>\n",
       "      <td>-0.2781</td>\n",
       "      <td>-0.2892</td>\n",
       "      <td>-0.1575</td>\n",
       "      <td>-0.4487</td>\n",
       "      <td>-0.2297</td>\n",
       "      <td>0.0000</td>\n",
       "      <td>0.0308</td>\n",
       "      <td>Industrials</td>\n",
       "      <td>44.757840</td>\n",
       "      <td>1</td>\n",
       "    </tr>\n",
       "  </tbody>\n",
       "</table>\n",
       "<p>5 rows × 225 columns</p>\n",
       "</div>"
      ],
      "text/plain": [
       "  Unnamed: 0       Revenue  Revenue Growth  Cost of Revenue  Gross Profit  \\\n",
       "0      CMCSA  9.450700e+10          0.1115     0.000000e+00  9.450700e+10   \n",
       "1        KMI  1.414400e+10          0.0320     7.288000e+09  6.856000e+09   \n",
       "2       INTC  7.084800e+10          0.1289     2.711100e+10  4.373700e+10   \n",
       "3         MU  3.039100e+10          0.4955     1.250000e+10  1.789100e+10   \n",
       "4         GE  1.216150e+11          0.0285     9.546100e+10  2.615400e+10   \n",
       "\n",
       "   R&D Expenses  SG&A Expense  Operating Expenses  Operating Income  \\\n",
       "0  0.000000e+00  6.482200e+10        7.549800e+10      1.900900e+10   \n",
       "1  0.000000e+00  6.010000e+08        3.062000e+09      3.794000e+09   \n",
       "2  1.354300e+10  6.750000e+09        2.042100e+10      2.331600e+10   \n",
       "3  2.141000e+09  8.130000e+08        2.897000e+09      1.499400e+10   \n",
       "4  0.000000e+00  1.811100e+10        4.071100e+10     -1.455700e+10   \n",
       "\n",
       "   Interest Expense  ...  Receivables growth  Inventory Growth  Asset Growth  \\\n",
       "0      3.542000e+09  ...              0.2570            0.0000        0.3426   \n",
       "1      1.917000e+09  ...              0.0345           -0.0920       -0.0024   \n",
       "2     -1.260000e+08  ...              0.1989            0.0387        0.0382   \n",
       "3      3.420000e+08  ...              0.4573            0.1511        0.2275   \n",
       "4      5.059000e+09  ...             -0.2781           -0.2892       -0.1575   \n",
       "\n",
       "   Book Value per Share Growth  Debt Growth  R&D Expense Growth  \\\n",
       "0                       0.0722       0.7309              0.0000   \n",
       "1                       0.0076      -0.0137              0.0000   \n",
       "2                       0.1014      -0.0169              0.0390   \n",
       "3                       0.6395      -0.5841              0.1738   \n",
       "4                      -0.4487      -0.2297              0.0000   \n",
       "\n",
       "   SG&A Expenses Growth             Sector  2019 PRICE VAR [%]  Class  \n",
       "0                0.1308  Consumer Cyclical           32.794573      1  \n",
       "1               -0.1265             Energy           40.588068      1  \n",
       "2               -0.0942         Technology           30.295514      1  \n",
       "3                0.0942         Technology           64.213737      1  \n",
       "4                0.0308        Industrials           44.757840      1  \n",
       "\n",
       "[5 rows x 225 columns]"
      ]
     },
     "execution_count": 3,
     "metadata": {},
     "output_type": "execute_result"
    }
   ],
   "source": [
    "#Explore the first few rows of the data\n",
    "data.head()"
   ]
  },
  {
   "cell_type": "code",
   "execution_count": 4,
   "id": "2c5665d6",
   "metadata": {},
   "outputs": [
    {
     "data": {
      "text/html": [
       "<div>\n",
       "<style scoped>\n",
       "    .dataframe tbody tr th:only-of-type {\n",
       "        vertical-align: middle;\n",
       "    }\n",
       "\n",
       "    .dataframe tbody tr th {\n",
       "        vertical-align: top;\n",
       "    }\n",
       "\n",
       "    .dataframe thead th {\n",
       "        text-align: right;\n",
       "    }\n",
       "</style>\n",
       "<table border=\"1\" class=\"dataframe\">\n",
       "  <thead>\n",
       "    <tr style=\"text-align: right;\">\n",
       "      <th></th>\n",
       "      <th>Revenue</th>\n",
       "      <th>Revenue Growth</th>\n",
       "      <th>Cost of Revenue</th>\n",
       "      <th>Gross Profit</th>\n",
       "      <th>R&amp;D Expenses</th>\n",
       "      <th>SG&amp;A Expense</th>\n",
       "      <th>Operating Expenses</th>\n",
       "      <th>Operating Income</th>\n",
       "      <th>Interest Expense</th>\n",
       "      <th>Earnings before Tax</th>\n",
       "      <th>...</th>\n",
       "      <th>3Y Dividend per Share Growth (per Share)</th>\n",
       "      <th>Receivables growth</th>\n",
       "      <th>Inventory Growth</th>\n",
       "      <th>Asset Growth</th>\n",
       "      <th>Book Value per Share Growth</th>\n",
       "      <th>Debt Growth</th>\n",
       "      <th>R&amp;D Expense Growth</th>\n",
       "      <th>SG&amp;A Expenses Growth</th>\n",
       "      <th>2019 PRICE VAR [%]</th>\n",
       "      <th>Class</th>\n",
       "    </tr>\n",
       "  </thead>\n",
       "  <tbody>\n",
       "    <tr>\n",
       "      <th>count</th>\n",
       "      <td>4.346000e+03</td>\n",
       "      <td>4253.000000</td>\n",
       "      <td>4.207000e+03</td>\n",
       "      <td>4.328000e+03</td>\n",
       "      <td>4.155000e+03</td>\n",
       "      <td>4.226000e+03</td>\n",
       "      <td>4.208000e+03</td>\n",
       "      <td>4.357000e+03</td>\n",
       "      <td>4.208000e+03</td>\n",
       "      <td>4.321000e+03</td>\n",
       "      <td>...</td>\n",
       "      <td>4067.000000</td>\n",
       "      <td>4268.000000</td>\n",
       "      <td>4160.000000</td>\n",
       "      <td>4178.000000</td>\n",
       "      <td>4121.000000</td>\n",
       "      <td>4128.000000</td>\n",
       "      <td>4133.000000</td>\n",
       "      <td>4144.000000</td>\n",
       "      <td>4392.000000</td>\n",
       "      <td>4392.000000</td>\n",
       "    </tr>\n",
       "    <tr>\n",
       "      <th>mean</th>\n",
       "      <td>5.119287e+09</td>\n",
       "      <td>3.455278</td>\n",
       "      <td>3.144946e+09</td>\n",
       "      <td>2.043954e+09</td>\n",
       "      <td>1.180176e+08</td>\n",
       "      <td>9.005022e+08</td>\n",
       "      <td>1.435546e+09</td>\n",
       "      <td>6.541207e+08</td>\n",
       "      <td>1.001350e+08</td>\n",
       "      <td>5.584432e+08</td>\n",
       "      <td>...</td>\n",
       "      <td>0.006081</td>\n",
       "      <td>36.768524</td>\n",
       "      <td>0.183066</td>\n",
       "      <td>1.389013</td>\n",
       "      <td>0.262530</td>\n",
       "      <td>9.928446</td>\n",
       "      <td>0.091891</td>\n",
       "      <td>0.153610</td>\n",
       "      <td>20.803948</td>\n",
       "      <td>0.693534</td>\n",
       "    </tr>\n",
       "    <tr>\n",
       "      <th>std</th>\n",
       "      <td>2.049504e+10</td>\n",
       "      <td>195.504906</td>\n",
       "      <td>1.508813e+10</td>\n",
       "      <td>7.682369e+09</td>\n",
       "      <td>9.330891e+08</td>\n",
       "      <td>3.661116e+09</td>\n",
       "      <td>5.529831e+09</td>\n",
       "      <td>2.969341e+09</td>\n",
       "      <td>3.780021e+08</td>\n",
       "      <td>2.639327e+09</td>\n",
       "      <td>...</td>\n",
       "      <td>0.239653</td>\n",
       "      <td>2347.079237</td>\n",
       "      <td>4.688013</td>\n",
       "      <td>35.123904</td>\n",
       "      <td>5.612666</td>\n",
       "      <td>363.717734</td>\n",
       "      <td>0.823281</td>\n",
       "      <td>0.839647</td>\n",
       "      <td>82.622147</td>\n",
       "      <td>0.461078</td>\n",
       "    </tr>\n",
       "    <tr>\n",
       "      <th>min</th>\n",
       "      <td>-6.894100e+07</td>\n",
       "      <td>-3.461500</td>\n",
       "      <td>-2.669055e+09</td>\n",
       "      <td>-1.818220e+09</td>\n",
       "      <td>-1.042000e+08</td>\n",
       "      <td>-1.401594e+08</td>\n",
       "      <td>-4.280000e+09</td>\n",
       "      <td>-1.455700e+10</td>\n",
       "      <td>-1.408252e+09</td>\n",
       "      <td>-2.177200e+10</td>\n",
       "      <td>...</td>\n",
       "      <td>-1.000000</td>\n",
       "      <td>-1.000000</td>\n",
       "      <td>-1.000000</td>\n",
       "      <td>-0.999100</td>\n",
       "      <td>-32.258100</td>\n",
       "      <td>-1.000000</td>\n",
       "      <td>-1.000000</td>\n",
       "      <td>-1.000000</td>\n",
       "      <td>-99.864779</td>\n",
       "      <td>0.000000</td>\n",
       "    </tr>\n",
       "    <tr>\n",
       "      <th>25%</th>\n",
       "      <td>6.501425e+07</td>\n",
       "      <td>0.000000</td>\n",
       "      <td>3.415500e+06</td>\n",
       "      <td>3.618903e+07</td>\n",
       "      <td>0.000000e+00</td>\n",
       "      <td>2.056226e+07</td>\n",
       "      <td>4.223644e+07</td>\n",
       "      <td>-5.510000e+06</td>\n",
       "      <td>0.000000e+00</td>\n",
       "      <td>-1.000800e+07</td>\n",
       "      <td>...</td>\n",
       "      <td>0.000000</td>\n",
       "      <td>-0.048075</td>\n",
       "      <td>0.000000</td>\n",
       "      <td>-0.036700</td>\n",
       "      <td>-0.108600</td>\n",
       "      <td>-0.082850</td>\n",
       "      <td>0.000000</td>\n",
       "      <td>-0.004650</td>\n",
       "      <td>-7.477173</td>\n",
       "      <td>0.000000</td>\n",
       "    </tr>\n",
       "    <tr>\n",
       "      <th>50%</th>\n",
       "      <td>4.982640e+08</td>\n",
       "      <td>0.074900</td>\n",
       "      <td>1.741180e+08</td>\n",
       "      <td>2.219470e+08</td>\n",
       "      <td>0.000000e+00</td>\n",
       "      <td>9.390450e+07</td>\n",
       "      <td>1.806253e+08</td>\n",
       "      <td>4.203800e+07</td>\n",
       "      <td>5.693500e+06</td>\n",
       "      <td>2.730700e+07</td>\n",
       "      <td>...</td>\n",
       "      <td>0.000000</td>\n",
       "      <td>0.010200</td>\n",
       "      <td>0.000000</td>\n",
       "      <td>0.034750</td>\n",
       "      <td>0.026100</td>\n",
       "      <td>0.000000</td>\n",
       "      <td>0.000000</td>\n",
       "      <td>0.065700</td>\n",
       "      <td>17.639393</td>\n",
       "      <td>1.000000</td>\n",
       "    </tr>\n",
       "    <tr>\n",
       "      <th>75%</th>\n",
       "      <td>2.457878e+09</td>\n",
       "      <td>0.188500</td>\n",
       "      <td>1.297814e+09</td>\n",
       "      <td>9.767015e+08</td>\n",
       "      <td>1.450150e+07</td>\n",
       "      <td>4.117162e+08</td>\n",
       "      <td>6.796040e+08</td>\n",
       "      <td>2.862690e+08</td>\n",
       "      <td>5.817075e+07</td>\n",
       "      <td>2.238810e+08</td>\n",
       "      <td>...</td>\n",
       "      <td>0.042050</td>\n",
       "      <td>0.185900</td>\n",
       "      <td>0.080050</td>\n",
       "      <td>0.160575</td>\n",
       "      <td>0.138400</td>\n",
       "      <td>0.115425</td>\n",
       "      <td>0.009700</td>\n",
       "      <td>0.167625</td>\n",
       "      <td>39.625879</td>\n",
       "      <td>1.000000</td>\n",
       "    </tr>\n",
       "    <tr>\n",
       "      <th>max</th>\n",
       "      <td>5.003430e+11</td>\n",
       "      <td>12739.000000</td>\n",
       "      <td>3.733960e+11</td>\n",
       "      <td>1.269470e+11</td>\n",
       "      <td>2.883700e+10</td>\n",
       "      <td>1.065100e+11</td>\n",
       "      <td>1.065100e+11</td>\n",
       "      <td>7.089800e+10</td>\n",
       "      <td>9.168000e+09</td>\n",
       "      <td>7.290300e+10</td>\n",
       "      <td>...</td>\n",
       "      <td>4.079100</td>\n",
       "      <td>153332.333300</td>\n",
       "      <td>293.473000</td>\n",
       "      <td>1184.993800</td>\n",
       "      <td>313.395800</td>\n",
       "      <td>17646.823500</td>\n",
       "      <td>36.898100</td>\n",
       "      <td>43.718800</td>\n",
       "      <td>3756.716345</td>\n",
       "      <td>1.000000</td>\n",
       "    </tr>\n",
       "  </tbody>\n",
       "</table>\n",
       "<p>8 rows × 223 columns</p>\n",
       "</div>"
      ],
      "text/plain": [
       "            Revenue  Revenue Growth  Cost of Revenue  Gross Profit  \\\n",
       "count  4.346000e+03     4253.000000     4.207000e+03  4.328000e+03   \n",
       "mean   5.119287e+09        3.455278     3.144946e+09  2.043954e+09   \n",
       "std    2.049504e+10      195.504906     1.508813e+10  7.682369e+09   \n",
       "min   -6.894100e+07       -3.461500    -2.669055e+09 -1.818220e+09   \n",
       "25%    6.501425e+07        0.000000     3.415500e+06  3.618903e+07   \n",
       "50%    4.982640e+08        0.074900     1.741180e+08  2.219470e+08   \n",
       "75%    2.457878e+09        0.188500     1.297814e+09  9.767015e+08   \n",
       "max    5.003430e+11    12739.000000     3.733960e+11  1.269470e+11   \n",
       "\n",
       "       R&D Expenses  SG&A Expense  Operating Expenses  Operating Income  \\\n",
       "count  4.155000e+03  4.226000e+03        4.208000e+03      4.357000e+03   \n",
       "mean   1.180176e+08  9.005022e+08        1.435546e+09      6.541207e+08   \n",
       "std    9.330891e+08  3.661116e+09        5.529831e+09      2.969341e+09   \n",
       "min   -1.042000e+08 -1.401594e+08       -4.280000e+09     -1.455700e+10   \n",
       "25%    0.000000e+00  2.056226e+07        4.223644e+07     -5.510000e+06   \n",
       "50%    0.000000e+00  9.390450e+07        1.806253e+08      4.203800e+07   \n",
       "75%    1.450150e+07  4.117162e+08        6.796040e+08      2.862690e+08   \n",
       "max    2.883700e+10  1.065100e+11        1.065100e+11      7.089800e+10   \n",
       "\n",
       "       Interest Expense  Earnings before Tax  ...  \\\n",
       "count      4.208000e+03         4.321000e+03  ...   \n",
       "mean       1.001350e+08         5.584432e+08  ...   \n",
       "std        3.780021e+08         2.639327e+09  ...   \n",
       "min       -1.408252e+09        -2.177200e+10  ...   \n",
       "25%        0.000000e+00        -1.000800e+07  ...   \n",
       "50%        5.693500e+06         2.730700e+07  ...   \n",
       "75%        5.817075e+07         2.238810e+08  ...   \n",
       "max        9.168000e+09         7.290300e+10  ...   \n",
       "\n",
       "       3Y Dividend per Share Growth (per Share)  Receivables growth  \\\n",
       "count                               4067.000000         4268.000000   \n",
       "mean                                   0.006081           36.768524   \n",
       "std                                    0.239653         2347.079237   \n",
       "min                                   -1.000000           -1.000000   \n",
       "25%                                    0.000000           -0.048075   \n",
       "50%                                    0.000000            0.010200   \n",
       "75%                                    0.042050            0.185900   \n",
       "max                                    4.079100       153332.333300   \n",
       "\n",
       "       Inventory Growth  Asset Growth  Book Value per Share Growth  \\\n",
       "count       4160.000000   4178.000000                  4121.000000   \n",
       "mean           0.183066      1.389013                     0.262530   \n",
       "std            4.688013     35.123904                     5.612666   \n",
       "min           -1.000000     -0.999100                   -32.258100   \n",
       "25%            0.000000     -0.036700                    -0.108600   \n",
       "50%            0.000000      0.034750                     0.026100   \n",
       "75%            0.080050      0.160575                     0.138400   \n",
       "max          293.473000   1184.993800                   313.395800   \n",
       "\n",
       "        Debt Growth  R&D Expense Growth  SG&A Expenses Growth  \\\n",
       "count   4128.000000         4133.000000           4144.000000   \n",
       "mean       9.928446            0.091891              0.153610   \n",
       "std      363.717734            0.823281              0.839647   \n",
       "min       -1.000000           -1.000000             -1.000000   \n",
       "25%       -0.082850            0.000000             -0.004650   \n",
       "50%        0.000000            0.000000              0.065700   \n",
       "75%        0.115425            0.009700              0.167625   \n",
       "max    17646.823500           36.898100             43.718800   \n",
       "\n",
       "       2019 PRICE VAR [%]        Class  \n",
       "count         4392.000000  4392.000000  \n",
       "mean            20.803948     0.693534  \n",
       "std             82.622147     0.461078  \n",
       "min            -99.864779     0.000000  \n",
       "25%             -7.477173     0.000000  \n",
       "50%             17.639393     1.000000  \n",
       "75%             39.625879     1.000000  \n",
       "max           3756.716345     1.000000  \n",
       "\n",
       "[8 rows x 223 columns]"
      ]
     },
     "execution_count": 4,
     "metadata": {},
     "output_type": "execute_result"
    }
   ],
   "source": [
    "#Explore some distributions of the data\n",
    "data.describe()"
   ]
  },
  {
   "cell_type": "code",
   "execution_count": 5,
   "id": "e62653e1",
   "metadata": {},
   "outputs": [
    {
     "name": "stdout",
     "output_type": "stream",
     "text": [
      "<class 'pandas.core.frame.DataFrame'>\n",
      "RangeIndex: 4392 entries, 0 to 4391\n",
      "Columns: 225 entries, Unnamed: 0 to Class\n",
      "dtypes: float64(222), int64(1), object(2)\n",
      "memory usage: 7.5+ MB\n"
     ]
    }
   ],
   "source": [
    "#Explore the dataframe and columns types\n",
    "data.info()"
   ]
  },
  {
   "cell_type": "markdown",
   "id": "6d0df87f",
   "metadata": {},
   "source": [
    "The data contains 4392 observations, and 225 rows. The columns contain 3 types of data: float64, int64 and object."
   ]
  },
  {
   "cell_type": "markdown",
   "id": "52727636",
   "metadata": {},
   "source": [
    "## Cleaning data"
   ]
  },
  {
   "cell_type": "markdown",
   "id": "7b13708c",
   "metadata": {},
   "source": [
    "First, I will explore and clean numeric columns."
   ]
  },
  {
   "cell_type": "code",
   "execution_count": 6,
   "id": "fe948b63",
   "metadata": {},
   "outputs": [
    {
     "data": {
      "text/plain": [
       "cashConversionCycle                           4386\n",
       "operatingCycle                                4386\n",
       "shortTermCoverageRatios                       1926\n",
       "10Y Shareholders Equity Growth (per Share)    1695\n",
       "priceEarningsToGrowthRatio                    1658\n",
       "                                              ... \n",
       "Net cash flow / Change in cash                  24\n",
       "Retained earnings (deficit)                     21\n",
       "Financing Cash Flow                             19\n",
       "2019 PRICE VAR [%]                               0\n",
       "Class                                            0\n",
       "Length: 223, dtype: int64"
      ]
     },
     "execution_count": 6,
     "metadata": {},
     "output_type": "execute_result"
    }
   ],
   "source": [
    "#Select numeric columns and sort them in descending orders based on the number of null values in each column.\n",
    "null_counts=data.isnull().sum()\n",
    "null_counts[null_counts>0]\n",
    "numeric_cols=data.select_dtypes(include=['float64','int64']).columns\n",
    "data[numeric_cols].isnull().sum().sort_values(ascending=False)\n"
   ]
  },
  {
   "cell_type": "code",
   "execution_count": 7,
   "id": "1c78a4c7",
   "metadata": {},
   "outputs": [
    {
     "data": {
      "image/png": "[encoded data removed]",
      "text/plain": [
       "<Figure size 432x288 with 1 Axes>"
      ]
     },
     "metadata": {
      "needs_background": "light"
     },
     "output_type": "display_data"
    }
   ],
   "source": [
    "#Plot a histogram to see the null counts and the number of columns for each range of null counts\n",
    "marks=np.array(null_counts[null_counts>0])\n",
    "fig,ax=plt.subplots(1,1)\n",
    "ax.hist(marks)\n",
    "ax.set_xlabel('Null counts')\n",
    "ax.set_ylabel('Number of columns')\n",
    "plt.show()"
   ]
  },
  {
   "cell_type": "code",
   "execution_count": 8,
   "id": "42a83d3f",
   "metadata": {},
   "outputs": [
    {
     "data": {
      "text/plain": [
       "(14.632, 237.35]     89\n",
       "(237.35, 455.7]      81\n",
       "(674.05, 892.4]      17\n",
       "(1547.45, 1765.8]    10\n",
       "(455.7, 674.05]       8\n",
       "(892.4, 1110.75]      8\n",
       "(1110.75, 1329.1]     3\n",
       "(4167.65, 4386.0]     2\n",
       "(1329.1, 1547.45]     2\n",
       "(1765.8, 1984.15]     1\n",
       "(1984.15, 2202.5]     0\n",
       "(2420.85, 2639.2]     0\n",
       "(2639.2, 2857.55]     0\n",
       "(2857.55, 3075.9]     0\n",
       "(3075.9, 3294.25]     0\n",
       "(3294.25, 3512.6]     0\n",
       "(3512.6, 3730.95]     0\n",
       "(3730.95, 3949.3]     0\n",
       "(3949.3, 4167.65]     0\n",
       "(2202.5, 2420.85]     0\n",
       "dtype: int64"
      ]
     },
     "execution_count": 8,
     "metadata": {},
     "output_type": "execute_result"
    }
   ],
   "source": [
    "#Create a frequency table for each range of null counts and the corresponding number of columns.\n",
    "null_counts[null_counts>0].value_counts(bins=20)"
   ]
  },
  {
   "cell_type": "markdown",
   "id": "e3d978d9",
   "metadata": {},
   "source": [
    "Based on the histogram, most columns have less than 456 null values (approximately 10% of the data). I will drop columns with more than 10% of null values (using the process_missing function later).\n",
    "\n",
    "Now, I will explore object columns."
   ]
  },
  {
   "cell_type": "code",
   "execution_count": 9,
   "id": "1cc44d43",
   "metadata": {},
   "outputs": [
    {
     "data": {
      "text/html": [
       "<div>\n",
       "<style scoped>\n",
       "    .dataframe tbody tr th:only-of-type {\n",
       "        vertical-align: middle;\n",
       "    }\n",
       "\n",
       "    .dataframe tbody tr th {\n",
       "        vertical-align: top;\n",
       "    }\n",
       "\n",
       "    .dataframe thead th {\n",
       "        text-align: right;\n",
       "    }\n",
       "</style>\n",
       "<table border=\"1\" class=\"dataframe\">\n",
       "  <thead>\n",
       "    <tr style=\"text-align: right;\">\n",
       "      <th></th>\n",
       "      <th>Unnamed: 0</th>\n",
       "      <th>Sector</th>\n",
       "    </tr>\n",
       "  </thead>\n",
       "  <tbody>\n",
       "    <tr>\n",
       "      <th>0</th>\n",
       "      <td>CMCSA</td>\n",
       "      <td>Consumer Cyclical</td>\n",
       "    </tr>\n",
       "    <tr>\n",
       "      <th>1</th>\n",
       "      <td>KMI</td>\n",
       "      <td>Energy</td>\n",
       "    </tr>\n",
       "    <tr>\n",
       "      <th>2</th>\n",
       "      <td>INTC</td>\n",
       "      <td>Technology</td>\n",
       "    </tr>\n",
       "    <tr>\n",
       "      <th>3</th>\n",
       "      <td>MU</td>\n",
       "      <td>Technology</td>\n",
       "    </tr>\n",
       "    <tr>\n",
       "      <th>4</th>\n",
       "      <td>GE</td>\n",
       "      <td>Industrials</td>\n",
       "    </tr>\n",
       "    <tr>\n",
       "      <th>...</th>\n",
       "      <td>...</td>\n",
       "      <td>...</td>\n",
       "    </tr>\n",
       "    <tr>\n",
       "      <th>4387</th>\n",
       "      <td>YRIV</td>\n",
       "      <td>Real Estate</td>\n",
       "    </tr>\n",
       "    <tr>\n",
       "      <th>4388</th>\n",
       "      <td>YTEN</td>\n",
       "      <td>Basic Materials</td>\n",
       "    </tr>\n",
       "    <tr>\n",
       "      <th>4389</th>\n",
       "      <td>ZKIN</td>\n",
       "      <td>Basic Materials</td>\n",
       "    </tr>\n",
       "    <tr>\n",
       "      <th>4390</th>\n",
       "      <td>ZOM</td>\n",
       "      <td>Industrials</td>\n",
       "    </tr>\n",
       "    <tr>\n",
       "      <th>4391</th>\n",
       "      <td>ZYME</td>\n",
       "      <td>Healthcare</td>\n",
       "    </tr>\n",
       "  </tbody>\n",
       "</table>\n",
       "<p>4392 rows × 2 columns</p>\n",
       "</div>"
      ],
      "text/plain": [
       "     Unnamed: 0             Sector\n",
       "0         CMCSA  Consumer Cyclical\n",
       "1           KMI             Energy\n",
       "2          INTC         Technology\n",
       "3            MU         Technology\n",
       "4            GE        Industrials\n",
       "...         ...                ...\n",
       "4387       YRIV        Real Estate\n",
       "4388       YTEN    Basic Materials\n",
       "4389       ZKIN    Basic Materials\n",
       "4390        ZOM        Industrials\n",
       "4391       ZYME         Healthcare\n",
       "\n",
       "[4392 rows x 2 columns]"
      ]
     },
     "execution_count": 9,
     "metadata": {},
     "output_type": "execute_result"
    }
   ],
   "source": [
    "data.select_dtypes(include=['object'])"
   ]
  },
  {
   "cell_type": "markdown",
   "id": "c90c4ab2",
   "metadata": {},
   "source": [
    "There are two object columns: 'Unnamed: 0' and 'Sector'. Let's explore more about these two columns."
   ]
  },
  {
   "cell_type": "code",
   "execution_count": 10,
   "id": "857e2517",
   "metadata": {},
   "outputs": [
    {
     "data": {
      "text/plain": [
       "0"
      ]
     },
     "execution_count": 10,
     "metadata": {},
     "output_type": "execute_result"
    }
   ],
   "source": [
    "data['Sector'].isnull().sum()"
   ]
  },
  {
   "cell_type": "code",
   "execution_count": 11,
   "id": "5c8196bb",
   "metadata": {},
   "outputs": [
    {
     "data": {
      "text/plain": [
       "0       CMCSA\n",
       "1         KMI\n",
       "2        INTC\n",
       "3          MU\n",
       "4          GE\n",
       "        ...  \n",
       "4387     YRIV\n",
       "4388     YTEN\n",
       "4389     ZKIN\n",
       "4390      ZOM\n",
       "4391     ZYME\n",
       "Name: Unnamed: 0, Length: 4392, dtype: object"
      ]
     },
     "execution_count": 11,
     "metadata": {},
     "output_type": "execute_result"
    }
   ],
   "source": [
    "data['Unnamed: 0']"
   ]
  },
  {
   "cell_type": "code",
   "execution_count": 12,
   "id": "b957f0fd",
   "metadata": {},
   "outputs": [
    {
     "data": {
      "text/plain": [
       "Index(['Unnamed: 0', 'Revenue', 'Revenue Growth', 'Cost of Revenue',\n",
       "       'Gross Profit', 'R&D Expenses', 'SG&A Expense', 'Operating Expenses',\n",
       "       'Operating Income', 'Interest Expense',\n",
       "       ...\n",
       "       'Receivables growth', 'Inventory Growth', 'Asset Growth',\n",
       "       'Book Value per Share Growth', 'Debt Growth', 'R&D Expense Growth',\n",
       "       'SG&A Expenses Growth', 'Sector', '2019 PRICE VAR [%]', 'Class'],\n",
       "      dtype='object', length=225)"
      ]
     },
     "execution_count": 12,
     "metadata": {},
     "output_type": "execute_result"
    }
   ],
   "source": [
    "data.columns"
   ]
  },
  {
   "cell_type": "markdown",
   "id": "9a76a94f",
   "metadata": {},
   "source": [
    "There is 0 null value for 'Sector' column. The column 'Unnamed: 0' has 4392 unique values (equal to the length of the dataset). I suppose these are the ticker symbols for each company (e.g. CMCSA is Comcast, KMI is Kinder Morgan Inc, etc.). Therefore, this column ('Unnamed: 0') will be dropped."
   ]
  },
  {
   "cell_type": "code",
   "execution_count": 13,
   "id": "a9056a3b",
   "metadata": {},
   "outputs": [],
   "source": [
    "#Drop columns with high number of null counts (more than 10%), drop 'Unnamed: 0' column and remove rows with missing values.\n",
    "def process_missing(df):\n",
    "    df=df.drop(['Unnamed: 0'],axis=1)\n",
    "    #Drop columns with more than 10% missing values\n",
    "    numeric_cols_nulls=df[numeric_cols].isnull().sum()/len(df)\n",
    "    numeric_drop=numeric_cols_nulls[numeric_cols_nulls>0.1].index\n",
    "    df=df.drop(numeric_drop,axis=1)\n",
    "    #Drop rows with missing values\n",
    "    df=df.dropna(axis=0)\n",
    "    return df\n",
    "\n",
    "data=process_missing(data)"
   ]
  },
  {
   "cell_type": "markdown",
   "id": "93cdaf47",
   "metadata": {},
   "source": [
    "In the above function, I also drop rows with missing values instead of replacing them with the columns' statistics. For instance, columns such as 'Revenue Growth', 'Gross Profit', 'Inventory Growth', etc. are each distinct for each company. Each value is dependent on other columns so replacing it with the statistics will add inaccurate information to the data."
   ]
  },
  {
   "cell_type": "markdown",
   "id": "bf10fd33",
   "metadata": {},
   "source": [
    "## Features engineering"
   ]
  },
  {
   "cell_type": "markdown",
   "id": "c63db5ea",
   "metadata": {},
   "source": [
    "I will explore correlation between features and target column and then detect potential collinearity between each pair of features."
   ]
  },
  {
   "cell_type": "code",
   "execution_count": 14,
   "id": "090fd25f",
   "metadata": {},
   "outputs": [],
   "source": [
    "#Remove columns with low correlation with Class\n",
    "def correlation(df):\n",
    "    correlation=data.corr()['Class'].abs()\n",
    "    low_corr=correlation[correlation<0.1].index\n",
    "    df=df.drop(low_corr,axis=1)\n",
    "    return df\n",
    "\n",
    "data=correlation(data)"
   ]
  },
  {
   "cell_type": "code",
   "execution_count": 15,
   "id": "af6c199e",
   "metadata": {},
   "outputs": [
    {
     "name": "stdout",
     "output_type": "stream",
     "text": [
      "<class 'pandas.core.frame.DataFrame'>\n",
      "Int64Index: 3267 entries, 0 to 4391\n",
      "Data columns (total 15 columns):\n",
      " #   Column                        Non-Null Count  Dtype  \n",
      "---  ------                        --------------  -----  \n",
      " 0   Operating Income              3267 non-null   float64\n",
      " 1   Earnings before Tax           3267 non-null   float64\n",
      " 2   Net Income                    3267 non-null   float64\n",
      " 3   Net Income Com                3267 non-null   float64\n",
      " 4   Dividend per Share            3267 non-null   float64\n",
      " 5   EBITDA                        3267 non-null   float64\n",
      " 6   EBIT                          3267 non-null   float64\n",
      " 7   Consolidated Income           3267 non-null   float64\n",
      " 8   operatingProfitMargin         3267 non-null   float64\n",
      " 9   longtermDebtToCapitalization  3267 non-null   float64\n",
      " 10  totalDebtToCapitalization     3267 non-null   float64\n",
      " 11  Market Cap                    3267 non-null   float64\n",
      " 12  Sector                        3267 non-null   object \n",
      " 13  2019 PRICE VAR [%]            3267 non-null   float64\n",
      " 14  Class                         3267 non-null   int64  \n",
      "dtypes: float64(13), int64(1), object(1)\n",
      "memory usage: 408.4+ KB\n"
     ]
    }
   ],
   "source": [
    "data.info()"
   ]
  },
  {
   "cell_type": "code",
   "execution_count": 16,
   "id": "fe86aff6",
   "metadata": {},
   "outputs": [
    {
     "data": {
      "image/png": "[encoded data removed]",
      "text/plain": [
       "<Figure size 792x648 with 2 Axes>"
      ]
     },
     "metadata": {},
     "output_type": "display_data"
    }
   ],
   "source": [
    "#Plotting correlations\n",
    "def plot_correlation_heatmap(df):\n",
    "    corr = df.corr()\n",
    "    \n",
    "    sns.set(style=\"white\")\n",
    "    mask = np.zeros_like(corr, dtype=np.bool)\n",
    "    mask[np.triu_indices_from(mask)] = True\n",
    "\n",
    "    f, ax = plt.subplots(figsize=(11, 9))\n",
    "    cmap = sns.diverging_palette(220, 10, as_cmap=True)\n",
    "\n",
    "\n",
    "    sns.heatmap(corr, mask=mask, cmap=cmap, vmax=.3, center=0,\n",
    "            square=True, linewidths=.5, cbar_kws={\"shrink\": .5})\n",
    "    plt.show()\n",
    "\n",
    "plot_correlation_heatmap(data)"
   ]
  },
  {
   "cell_type": "code",
   "execution_count": 17,
   "id": "de3e5fb9",
   "metadata": {},
   "outputs": [],
   "source": [
    "#Detecting collinearity and remove those columns (with correlation of more than 0.5)\n",
    "def collinearity(df, threshold):\n",
    "    result=df['Class']\n",
    "    df=df.drop(['Class'],axis=1)\n",
    "    col_corr = set() # Set of all the names of deleted columns\n",
    "    corr_matrix = df.corr()\n",
    "    for i in range(len(corr_matrix.columns)):\n",
    "        for j in range(i):\n",
    "            if (corr_matrix.iloc[i, j] >= threshold) and (corr_matrix.columns[j] not in col_corr):\n",
    "                colname = corr_matrix.columns[i] # getting the name of column\n",
    "                col_corr.add(colname)\n",
    "                if colname in df.columns:\n",
    "                    del df[colname] # deleting the column from the dataset\n",
    "    df['Class']=result\n",
    "    return df\n",
    "\n",
    "data=collinearity(data,0.5)"
   ]
  },
  {
   "cell_type": "code",
   "execution_count": 18,
   "id": "9bc40ac8",
   "metadata": {},
   "outputs": [
    {
     "data": {
      "text/plain": [
       "Index(['Sector'], dtype='object')"
      ]
     },
     "execution_count": 18,
     "metadata": {},
     "output_type": "execute_result"
    }
   ],
   "source": [
    "data.select_dtypes(include='object').columns"
   ]
  },
  {
   "cell_type": "markdown",
   "id": "356bcc4e",
   "metadata": {},
   "source": [
    "The only object column left is 'Sector'. I believe that this is a good indicator for the change in price. Let's create dummy columns for this column."
   ]
  },
  {
   "cell_type": "code",
   "execution_count": 19,
   "id": "0eec7f4c",
   "metadata": {},
   "outputs": [],
   "source": [
    "def create_dummies(df):\n",
    "    col=df.select_dtypes(exclude=['number']).columns\n",
    "    dummies = pd.get_dummies(df[col],prefix=col)\n",
    "    df = pd.concat([df,dummies],axis=1)\n",
    "    df=df.drop(col,axis=1)\n",
    "    return df\n",
    "\n",
    "data=create_dummies(data)"
   ]
  },
  {
   "cell_type": "code",
   "execution_count": 20,
   "id": "e4a027c1",
   "metadata": {},
   "outputs": [
    {
     "data": {
      "text/plain": [
       "Index(['Operating Income', 'Dividend per Share', 'operatingProfitMargin',\n",
       "       'longtermDebtToCapitalization', '2019 PRICE VAR [%]', 'Class',\n",
       "       'Sector_Basic Materials', 'Sector_Communication Services',\n",
       "       'Sector_Consumer Cyclical', 'Sector_Consumer Defensive',\n",
       "       'Sector_Energy', 'Sector_Financial Services', 'Sector_Healthcare',\n",
       "       'Sector_Industrials', 'Sector_Real Estate', 'Sector_Technology',\n",
       "       'Sector_Utilities'],\n",
       "      dtype='object')"
      ]
     },
     "execution_count": 20,
     "metadata": {},
     "output_type": "execute_result"
    }
   ],
   "source": [
    "data.columns"
   ]
  },
  {
   "cell_type": "markdown",
   "id": "7ce7adc0",
   "metadata": {},
   "source": [
    "## Testing different models"
   ]
  },
  {
   "cell_type": "code",
   "execution_count": 21,
   "id": "12bc8347",
   "metadata": {},
   "outputs": [],
   "source": [
    "#Splitting the data into train and test dataset.\n",
    "def train_and_test(df, k):\n",
    "    random.seed(10)\n",
    "    kf=KFold(n_splits=k, shuffle=True)\n",
    "    for train_index, test_index, in kf.split(df):\n",
    "        train = df.iloc[train_index]\n",
    "        test = df.iloc[test_index] \n",
    "    return train,test"
   ]
  },
  {
   "cell_type": "code",
   "execution_count": 22,
   "id": "cfe1460d",
   "metadata": {},
   "outputs": [],
   "source": [
    "train,test=train_and_test(data,5)"
   ]
  },
  {
   "cell_type": "code",
   "execution_count": 23,
   "id": "687961bf",
   "metadata": {},
   "outputs": [],
   "source": [
    "#Inside train and test, split each into the feature columns and target column.\n",
    "y_train=train['Class']\n",
    "x_train=train.drop(['Class'],axis=1)\n",
    "y_test=test['Class']\n",
    "x_test=test.drop(['Class'],axis=1)"
   ]
  },
  {
   "cell_type": "markdown",
   "id": "48846394",
   "metadata": {},
   "source": [
    "I will test the following models using grid search: Logistic Regression, K-Neighbors Classifier and Random Forest Classifier. The model, along with its parameters, with the highest score will be chosen."
   ]
  },
  {
   "cell_type": "code",
   "execution_count": 24,
   "id": "868d403a",
   "metadata": {},
   "outputs": [],
   "source": [
    "def select_model(df,features):\n",
    "    all_y=df['Class']\n",
    "    all_X=df.drop(['Class'],axis=1)\n",
    "    models = [\n",
    "        {\n",
    "            \"name\": \"LogisticRegression\",\n",
    "            \"estimator\": LogisticRegression(),\n",
    "            \"hyperparameters\":\n",
    "                {\n",
    "                    \"solver\": [\"newton-cg\", \"lbfgs\", \"liblinear\"]\n",
    "                }\n",
    "        },\n",
    "        {\n",
    "            \"name\": \"KNeighborsClassifier\",\n",
    "            \"estimator\": KNeighborsClassifier(),\n",
    "            \"hyperparameters\":\n",
    "                {\n",
    "                    \"n_neighbors\": range(1,20,2),\n",
    "                    \"weights\": [\"distance\", \"uniform\"],\n",
    "                    \"algorithm\": [\"ball_tree\", \"kd_tree\", \"brute\"],\n",
    "                    \"p\": [1,2]\n",
    "                }\n",
    "        },\n",
    "        {\n",
    "            \"name\": \"RandomForestClassifier\",\n",
    "            \"estimator\": RandomForestClassifier(random_state=1),\n",
    "            \"hyperparameters\":\n",
    "                {\n",
    "                    \"n_estimators\": [4, 6, 9],\n",
    "                    \"criterion\": [\"entropy\", \"gini\"],\n",
    "                    \"max_depth\": [2, 5, 10],\n",
    "                    \"max_features\": [\"log2\", \"sqrt\"],\n",
    "                    \"min_samples_leaf\": [1, 5, 8],\n",
    "                    \"min_samples_split\": [2, 3, 5]\n",
    "\n",
    "                }\n",
    "        }\n",
    "    ]\n",
    "    for model in models:\n",
    "        print(\"Name of model:\", model['name'])\n",
    "        k=model['estimator']\n",
    "        grid=GridSearchCV(k,param_grid=model['hyperparameters'],cv=10)\n",
    "        grid.fit(all_X,all_y)\n",
    "        model[\"best_params\"] = grid.best_params_\n",
    "        model[\"best_score\"] = grid.best_score_\n",
    "        model[\"best_model\"] = grid.best_estimator_\n",
    "        print(\"Best Score: {}\".format(model[\"best_score\"]))\n",
    "        print(\"Best Parameters: {}\\n\".format(model[\"best_params\"]))\n",
    "        print(\"---------\")\n",
    "\n",
    "        "
   ]
  },
  {
   "cell_type": "code",
   "execution_count": 25,
   "id": "80f7119e",
   "metadata": {},
   "outputs": [
    {
     "name": "stdout",
     "output_type": "stream",
     "text": [
      "Name of model: LogisticRegression\n",
      "Best Score: 0.9980872159340176\n",
      "Best Parameters: {'solver': 'newton-cg'}\n",
      "\n",
      "---------\n",
      "Name of model: KNeighborsClassifier\n",
      "Best Score: 0.7092348863736071\n",
      "Best Parameters: {'algorithm': 'ball_tree', 'n_neighbors': 19, 'p': 1, 'weights': 'uniform'}\n",
      "\n",
      "---------\n",
      "Name of model: RandomForestClassifier\n",
      "Best Score: 1.0\n",
      "Best Parameters: {'criterion': 'entropy', 'max_depth': 5, 'max_features': 'log2', 'min_samples_leaf': 1, 'min_samples_split': 2, 'n_estimators': 6}\n",
      "\n",
      "---------\n"
     ]
    }
   ],
   "source": [
    "select_model(train,train.columns)"
   ]
  },
  {
   "cell_type": "markdown",
   "id": "a0445ac7",
   "metadata": {},
   "source": [
    "Based on the result, the model with the best score is Random Forest Classifier. The optimal hyperparameters for this model are: \n",
    "- criterion='entropy'\n",
    "- max_depth= 10\n",
    "- max_features='log2'\n",
    "- min_samples_leaf= 1\n",
    "- min_samples_split= 2\n",
    "- n_estimators= 9\n",
    "\n",
    "I will use the above model to make a prediction for the test set."
   ]
  },
  {
   "cell_type": "code",
   "execution_count": 26,
   "id": "ac423d7f",
   "metadata": {},
   "outputs": [],
   "source": [
    "model=RandomForestClassifier(criterion='entropy',max_depth= 10,max_features='log2',min_samples_leaf= 1,min_samples_split= 2,n_estimators= 9)\n",
    "model.fit(x_train,y_train)\n",
    "predictions=model.predict(x_test)"
   ]
  },
  {
   "cell_type": "code",
   "execution_count": 27,
   "id": "74ef0aa5",
   "metadata": {},
   "outputs": [
    {
     "data": {
      "text/plain": [
       "array([1, 0, 1, 0, 1, 1, 1, 1, 1, 1])"
      ]
     },
     "execution_count": 27,
     "metadata": {},
     "output_type": "execute_result"
    }
   ],
   "source": [
    "#Testing the first few predictions\n",
    "predictions[:10]"
   ]
  },
  {
   "cell_type": "markdown",
   "id": "51b6f6ca",
   "metadata": {},
   "source": [
    "In classification problem, it is important to checkout the true positive rate (how well the model accurately predicts positive outcome) and the true negative rate (how well the model accurately predicts negative outcome). In this particular project, both the predictions for price increase or decrease are equally important so let's explore both rates."
   ]
  },
  {
   "cell_type": "code",
   "execution_count": 28,
   "id": "545662a2",
   "metadata": {},
   "outputs": [],
   "source": [
    "test['labels']=predictions\n",
    "true_positive=len(test[(test['Class']==1) & (test['labels']==1)])\n",
    "true_negative=len(test[(test['Class']==0) & (test['labels']==0)])\n",
    "false_positive=len(test[(test['Class']==0) & (test['labels']==1)])\n",
    "false_negative=len(test[(test['Class']==1) & (test['labels']==0)])\n",
    "TPR=true_positive/(true_positive+false_negative)\n",
    "TNR=true_negative/(true_negative+false_positive)\n"
   ]
  },
  {
   "cell_type": "code",
   "execution_count": 29,
   "id": "7e4bf717",
   "metadata": {},
   "outputs": [
    {
     "name": "stdout",
     "output_type": "stream",
     "text": [
      "The true positive rate is:  1.0\n",
      "The true negative rate is:  1.0\n"
     ]
    }
   ],
   "source": [
    "print('The true positive rate is: ',TPR)\n",
    "print('The true negative rate is: ',TNR)"
   ]
  }
 ],
 "metadata": {
  "kernelspec": {
   "display_name": "Python 3",
   "language": "python",
   "name": "python3"
  },
  "language_info": {
   "codemirror_mode": {
    "name": "ipython",
    "version": 3
   },
   "file_extension": ".py",
   "mimetype": "text/x-python",
   "name": "python",
   "nbconvert_exporter": "python",
   "pygments_lexer": "ipython3",
   "version": "3.8.8"
  }
 },
 "nbformat": 4,
 "nbformat_minor": 5
}
